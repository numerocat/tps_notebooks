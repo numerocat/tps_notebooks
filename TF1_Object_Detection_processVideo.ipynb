{
  "nbformat": 4,
  "nbformat_minor": 0,
  "metadata": {
    "accelerator": "GPU",
    "colab": {
      "name": "TF1_objectDetection_processVideo_11feb21",
      "provenance": [],
      "collapsed_sections": [],
      "toc_visible": true
    },
    "kernelspec": {
      "display_name": "Python 3",
      "name": "python3"
    }
  },
  "cells": [
    {
      "cell_type": "markdown",
      "metadata": {
        "id": "iXbfJE687W-U"
      },
      "source": [
        "# Crear Ambiente de pruebas"
      ]
    },
    {
      "cell_type": "code",
      "metadata": {
        "colab": {
          "base_uri": "https://localhost:8080/"
        },
        "id": "muQstwiGWRf6",
        "outputId": "2248f3c5-5b43-4369-8bee-fb401ce957b2"
      },
      "source": [
        "%tensorflow_version 1.x"
      ],
      "execution_count": null,
      "outputs": [
        {
          "output_type": "stream",
          "text": [
            "TensorFlow 1.x selected.\n"
          ],
          "name": "stdout"
        }
      ]
    },
    {
      "cell_type": "code",
      "metadata": {
        "colab": {
          "base_uri": "https://localhost:8080/"
        },
        "id": "oO5GyXtUWcJt",
        "outputId": "c6e85958-50f6-49fa-86a7-b66a1e89e4df"
      },
      "source": [
        "!nvidia-smi"
      ],
      "execution_count": null,
      "outputs": [
        {
          "output_type": "stream",
          "text": [
            "Mon Mar  8 13:19:11 2021       \n",
            "+-----------------------------------------------------------------------------+\n",
            "| NVIDIA-SMI 460.39       Driver Version: 460.32.03    CUDA Version: 11.2     |\n",
            "|-------------------------------+----------------------+----------------------+\n",
            "| GPU  Name        Persistence-M| Bus-Id        Disp.A | Volatile Uncorr. ECC |\n",
            "| Fan  Temp  Perf  Pwr:Usage/Cap|         Memory-Usage | GPU-Util  Compute M. |\n",
            "|                               |                      |               MIG M. |\n",
            "|===============================+======================+======================|\n",
            "|   0  Tesla V100-SXM2...  Off  | 00000000:00:04.0 Off |                    0 |\n",
            "| N/A   34C    P0    24W / 300W |      0MiB / 16160MiB |      0%      Default |\n",
            "|                               |                      |                  N/A |\n",
            "+-------------------------------+----------------------+----------------------+\n",
            "                                                                               \n",
            "+-----------------------------------------------------------------------------+\n",
            "| Processes:                                                                  |\n",
            "|  GPU   GI   CI        PID   Type   Process name                  GPU Memory |\n",
            "|        ID   ID                                                   Usage      |\n",
            "|=============================================================================|\n",
            "|  No running processes found                                                 |\n",
            "+-----------------------------------------------------------------------------+\n"
          ],
          "name": "stdout"
        }
      ]
    },
    {
      "cell_type": "code",
      "metadata": {
        "colab": {
          "base_uri": "https://localhost:8080/"
        },
        "id": "Dac0jpwBWd09",
        "outputId": "8bc214a1-cb8f-476b-aa1a-59bdad5658fd"
      },
      "source": [
        "import tensorflow as tf\r\n",
        "device_name = tf.test.gpu_device_name()\r\n",
        "if device_name != '/device:GPU:0':\r\n",
        "   raise SystemError('GPU device not found')\r\n",
        "print('Found GPU at: {}'.format(device_name))\r\n",
        "print(tf.__version__)"
      ],
      "execution_count": null,
      "outputs": [
        {
          "output_type": "stream",
          "text": [
            "Found GPU at: /device:GPU:0\n",
            "1.15.2\n"
          ],
          "name": "stdout"
        }
      ]
    },
    {
      "cell_type": "code",
      "metadata": {
        "id": "ooRRUPYrWfyy",
        "colab": {
          "base_uri": "https://localhost:8080/"
        },
        "outputId": "113a50f8-397d-4b89-c365-9c35a848e98c"
      },
      "source": [
        "!git clone https://github.com/tensorflow/models.git\r\n",
        "!apt-get install protobuf-compiler python-pil python-lxml python-tk\r\n",
        "!pip install Cython"
      ],
      "execution_count": null,
      "outputs": [
        {
          "output_type": "stream",
          "text": [
            "Cloning into 'models'...\n",
            "remote: Enumerating objects: 15, done.\u001b[K\n",
            "remote: Counting objects: 100% (15/15), done.\u001b[K\n",
            "remote: Compressing objects: 100% (14/14), done.\u001b[K\n",
            "remote: Total 53011 (delta 3), reused 13 (delta 1), pack-reused 52996\u001b[K\n",
            "Receiving objects: 100% (53011/53011), 569.36 MiB | 30.05 MiB/s, done.\n",
            "Resolving deltas: 100% (36312/36312), done.\n",
            "Reading package lists... Done\n",
            "Building dependency tree       \n",
            "Reading state information... Done\n",
            "protobuf-compiler is already the newest version (3.0.0-9.1ubuntu1).\n",
            "python-tk is already the newest version (2.7.17-1~18.04).\n",
            "The following additional packages will be installed:\n",
            "  python-bs4 python-chardet python-html5lib python-olefile\n",
            "  python-pkg-resources python-six python-webencodings\n",
            "Suggested packages:\n",
            "  python-genshi python-lxml-dbg python-lxml-doc python-pil-doc python-pil-dbg\n",
            "  python-setuptools\n",
            "The following NEW packages will be installed:\n",
            "  python-bs4 python-chardet python-html5lib python-lxml python-olefile\n",
            "  python-pil python-pkg-resources python-six python-webencodings\n",
            "0 upgraded, 9 newly installed, 0 to remove and 29 not upgraded.\n",
            "Need to get 1,615 kB of archives.\n",
            "After this operation, 8,907 kB of additional disk space will be used.\n",
            "Get:1 http://archive.ubuntu.com/ubuntu bionic/main amd64 python-bs4 all 4.6.0-1 [67.9 kB]\n",
            "Get:2 http://archive.ubuntu.com/ubuntu bionic/main amd64 python-pkg-resources all 39.0.1-2 [128 kB]\n",
            "Get:3 http://archive.ubuntu.com/ubuntu bionic/main amd64 python-chardet all 3.0.4-1 [80.3 kB]\n",
            "Get:4 http://archive.ubuntu.com/ubuntu bionic/main amd64 python-six all 1.11.0-2 [11.3 kB]\n",
            "Get:5 http://archive.ubuntu.com/ubuntu bionic/main amd64 python-webencodings all 0.5-2 [10.3 kB]\n",
            "Get:6 http://archive.ubuntu.com/ubuntu bionic/main amd64 python-html5lib all 0.999999999-1 [83.6 kB]\n",
            "Get:7 http://archive.ubuntu.com/ubuntu bionic-updates/main amd64 python-lxml amd64 4.2.1-1ubuntu0.3 [899 kB]\n",
            "Get:8 http://archive.ubuntu.com/ubuntu bionic/main amd64 python-olefile all 0.45.1-1 [33.2 kB]\n",
            "Get:9 http://archive.ubuntu.com/ubuntu bionic-updates/main amd64 python-pil amd64 5.1.0-1ubuntu0.4 [301 kB]\n",
            "Fetched 1,615 kB in 0s (13.5 MB/s)\n",
            "Selecting previously unselected package python-bs4.\n",
            "(Reading database ... 160975 files and directories currently installed.)\n",
            "Preparing to unpack .../0-python-bs4_4.6.0-1_all.deb ...\n",
            "Unpacking python-bs4 (4.6.0-1) ...\n",
            "Selecting previously unselected package python-pkg-resources.\n",
            "Preparing to unpack .../1-python-pkg-resources_39.0.1-2_all.deb ...\n",
            "Unpacking python-pkg-resources (39.0.1-2) ...\n",
            "Selecting previously unselected package python-chardet.\n",
            "Preparing to unpack .../2-python-chardet_3.0.4-1_all.deb ...\n",
            "Unpacking python-chardet (3.0.4-1) ...\n",
            "Selecting previously unselected package python-six.\n",
            "Preparing to unpack .../3-python-six_1.11.0-2_all.deb ...\n",
            "Unpacking python-six (1.11.0-2) ...\n",
            "Selecting previously unselected package python-webencodings.\n",
            "Preparing to unpack .../4-python-webencodings_0.5-2_all.deb ...\n",
            "Unpacking python-webencodings (0.5-2) ...\n",
            "Selecting previously unselected package python-html5lib.\n",
            "Preparing to unpack .../5-python-html5lib_0.999999999-1_all.deb ...\n",
            "Unpacking python-html5lib (0.999999999-1) ...\n",
            "Selecting previously unselected package python-lxml:amd64.\n",
            "Preparing to unpack .../6-python-lxml_4.2.1-1ubuntu0.3_amd64.deb ...\n",
            "Unpacking python-lxml:amd64 (4.2.1-1ubuntu0.3) ...\n",
            "Selecting previously unselected package python-olefile.\n",
            "Preparing to unpack .../7-python-olefile_0.45.1-1_all.deb ...\n",
            "Unpacking python-olefile (0.45.1-1) ...\n",
            "Selecting previously unselected package python-pil:amd64.\n",
            "Preparing to unpack .../8-python-pil_5.1.0-1ubuntu0.4_amd64.deb ...\n",
            "Unpacking python-pil:amd64 (5.1.0-1ubuntu0.4) ...\n",
            "Setting up python-pkg-resources (39.0.1-2) ...\n",
            "Setting up python-six (1.11.0-2) ...\n",
            "Setting up python-bs4 (4.6.0-1) ...\n",
            "Setting up python-lxml:amd64 (4.2.1-1ubuntu0.3) ...\n",
            "Setting up python-olefile (0.45.1-1) ...\n",
            "Setting up python-pil:amd64 (5.1.0-1ubuntu0.4) ...\n",
            "Setting up python-webencodings (0.5-2) ...\n",
            "Setting up python-chardet (3.0.4-1) ...\n",
            "Setting up python-html5lib (0.999999999-1) ...\n",
            "Processing triggers for man-db (2.8.3-2ubuntu0.1) ...\n",
            "Requirement already satisfied: Cython in /usr/local/lib/python3.7/dist-packages (0.29.22)\n"
          ],
          "name": "stdout"
        }
      ]
    },
    {
      "cell_type": "code",
      "metadata": {
        "id": "Tg4Jem0CWi85",
        "colab": {
          "base_uri": "https://localhost:8080/"
        },
        "outputId": "07d44628-73d9-4c26-d032-9b3e476251f6"
      },
      "source": [
        "%cd models/research\r\n",
        "!protoc object_detection/protos/*.proto --python_out=."
      ],
      "execution_count": null,
      "outputs": [
        {
          "output_type": "stream",
          "text": [
            "/content/models/research\n"
          ],
          "name": "stdout"
        }
      ]
    },
    {
      "cell_type": "code",
      "metadata": {
        "id": "qLiIxnddWkqi"
      },
      "source": [
        "import os\r\n",
        "os.environ['PYTHONPATH'] += ':/models/research:/models/research/slim'"
      ],
      "execution_count": null,
      "outputs": []
    },
    {
      "cell_type": "code",
      "metadata": {
        "id": "2HxCF-1ZWt-6",
        "colab": {
          "base_uri": "https://localhost:8080/"
        },
        "outputId": "fcf8d891-7d23-44d9-a338-7fc26b4d106d"
      },
      "source": [
        "!python setup.py build\r\n",
        "!python setup.py install\r\n",
        "!cp object_detection/packages/tf1/setup.py .\r\n",
        "!python -m pip install .\r\n",
        "!python object_detection/builders/model_builder_tf1_test.py"
      ],
      "execution_count": null,
      "outputs": [
        {
          "output_type": "stream",
          "text": [
            "python3: can't open file 'setup.py': [Errno 2] No such file or directory\n",
            "python3: can't open file 'setup.py': [Errno 2] No such file or directory\n",
            "Processing /content/models/research\n",
            "Requirement already satisfied: pillow in /usr/local/lib/python3.7/dist-packages (from object-detection==0.1) (7.0.0)\n",
            "Requirement already satisfied: lxml in /usr/local/lib/python3.7/dist-packages (from object-detection==0.1) (4.2.6)\n",
            "Requirement already satisfied: matplotlib in /usr/local/lib/python3.7/dist-packages (from object-detection==0.1) (3.2.2)\n",
            "Requirement already satisfied: Cython in /usr/local/lib/python3.7/dist-packages (from object-detection==0.1) (0.29.22)\n",
            "Requirement already satisfied: contextlib2 in /usr/local/lib/python3.7/dist-packages (from object-detection==0.1) (0.5.5)\n",
            "Collecting tf-slim\n",
            "\u001b[?25l  Downloading https://files.pythonhosted.org/packages/02/97/b0f4a64df018ca018cc035d44f2ef08f91e2e8aa67271f6f19633a015ff7/tf_slim-1.1.0-py2.py3-none-any.whl (352kB)\n",
            "\u001b[K     |████████████████████████████████| 358kB 12.6MB/s \n",
            "\u001b[?25hRequirement already satisfied: six in /usr/local/lib/python3.7/dist-packages (from object-detection==0.1) (1.15.0)\n",
            "Requirement already satisfied: pycocotools in /usr/local/lib/python3.7/dist-packages (from object-detection==0.1) (2.0.2)\n",
            "Collecting lvis\n",
            "  Downloading https://files.pythonhosted.org/packages/72/b6/1992240ab48310b5360bfdd1d53163f43bb97d90dc5dc723c67d41c38e78/lvis-0.5.3-py3-none-any.whl\n",
            "Requirement already satisfied: scipy in /usr/local/lib/python3.7/dist-packages (from object-detection==0.1) (1.4.1)\n",
            "Requirement already satisfied: pandas in /usr/local/lib/python3.7/dist-packages (from object-detection==0.1) (1.1.5)\n",
            "Requirement already satisfied: numpy>=1.11 in /usr/local/lib/python3.7/dist-packages (from matplotlib->object-detection==0.1) (1.19.5)\n",
            "Requirement already satisfied: pyparsing!=2.0.4,!=2.1.2,!=2.1.6,>=2.0.1 in /usr/local/lib/python3.7/dist-packages (from matplotlib->object-detection==0.1) (2.4.7)\n",
            "Requirement already satisfied: cycler>=0.10 in /usr/local/lib/python3.7/dist-packages (from matplotlib->object-detection==0.1) (0.10.0)\n",
            "Requirement already satisfied: python-dateutil>=2.1 in /usr/local/lib/python3.7/dist-packages (from matplotlib->object-detection==0.1) (2.8.1)\n",
            "Requirement already satisfied: kiwisolver>=1.0.1 in /usr/local/lib/python3.7/dist-packages (from matplotlib->object-detection==0.1) (1.3.1)\n",
            "Requirement already satisfied: absl-py>=0.2.2 in /usr/local/lib/python3.7/dist-packages (from tf-slim->object-detection==0.1) (0.10.0)\n",
            "Requirement already satisfied: setuptools>=18.0 in /usr/local/lib/python3.7/dist-packages (from pycocotools->object-detection==0.1) (54.0.0)\n",
            "Requirement already satisfied: opencv-python>=4.1.0.25 in /usr/local/lib/python3.7/dist-packages (from lvis->object-detection==0.1) (4.1.2.30)\n",
            "Requirement already satisfied: pytz>=2017.2 in /usr/local/lib/python3.7/dist-packages (from pandas->object-detection==0.1) (2018.9)\n",
            "Building wheels for collected packages: object-detection\n",
            "  Building wheel for object-detection (setup.py) ... \u001b[?25l\u001b[?25hdone\n",
            "  Created wheel for object-detection: filename=object_detection-0.1-cp37-none-any.whl size=1624283 sha256=4ab4117fa207b6e6cd7dd41c4361f7846872179c0b51e8062eaac09399cb550e\n",
            "  Stored in directory: /tmp/pip-ephem-wheel-cache-w76pdoo7/wheels/94/49/4b/39b051683087a22ef7e80ec52152a27249d1a644ccf4e442ea\n",
            "Successfully built object-detection\n",
            "Installing collected packages: tf-slim, lvis, object-detection\n",
            "Successfully installed lvis-0.5.3 object-detection-0.1 tf-slim-1.1.0\n",
            "Running tests under Python 3.7.10: /usr/bin/python3\n",
            "[ RUN      ] ModelBuilderTF1Test.test_create_context_rcnn_from_config_with_params0 (True)\n",
            "[       OK ] ModelBuilderTF1Test.test_create_context_rcnn_from_config_with_params0 (True)\n",
            "[ RUN      ] ModelBuilderTF1Test.test_create_context_rcnn_from_config_with_params1 (False)\n",
            "[       OK ] ModelBuilderTF1Test.test_create_context_rcnn_from_config_with_params1 (False)\n",
            "[ RUN      ] ModelBuilderTF1Test.test_create_experimental_model\n",
            "[       OK ] ModelBuilderTF1Test.test_create_experimental_model\n",
            "[ RUN      ] ModelBuilderTF1Test.test_create_faster_rcnn_from_config_with_crop_feature0 (True)\n",
            "[       OK ] ModelBuilderTF1Test.test_create_faster_rcnn_from_config_with_crop_feature0 (True)\n",
            "[ RUN      ] ModelBuilderTF1Test.test_create_faster_rcnn_from_config_with_crop_feature1 (False)\n",
            "[       OK ] ModelBuilderTF1Test.test_create_faster_rcnn_from_config_with_crop_feature1 (False)\n",
            "[ RUN      ] ModelBuilderTF1Test.test_create_faster_rcnn_model_from_config_with_example_miner\n",
            "[       OK ] ModelBuilderTF1Test.test_create_faster_rcnn_model_from_config_with_example_miner\n",
            "[ RUN      ] ModelBuilderTF1Test.test_create_faster_rcnn_models_from_config_faster_rcnn_with_matmul\n",
            "[       OK ] ModelBuilderTF1Test.test_create_faster_rcnn_models_from_config_faster_rcnn_with_matmul\n",
            "[ RUN      ] ModelBuilderTF1Test.test_create_faster_rcnn_models_from_config_faster_rcnn_without_matmul\n",
            "[       OK ] ModelBuilderTF1Test.test_create_faster_rcnn_models_from_config_faster_rcnn_without_matmul\n",
            "[ RUN      ] ModelBuilderTF1Test.test_create_faster_rcnn_models_from_config_mask_rcnn_with_matmul\n",
            "[       OK ] ModelBuilderTF1Test.test_create_faster_rcnn_models_from_config_mask_rcnn_with_matmul\n",
            "[ RUN      ] ModelBuilderTF1Test.test_create_faster_rcnn_models_from_config_mask_rcnn_without_matmul\n",
            "[       OK ] ModelBuilderTF1Test.test_create_faster_rcnn_models_from_config_mask_rcnn_without_matmul\n",
            "[ RUN      ] ModelBuilderTF1Test.test_create_rfcn_model_from_config\n",
            "[       OK ] ModelBuilderTF1Test.test_create_rfcn_model_from_config\n",
            "[ RUN      ] ModelBuilderTF1Test.test_create_ssd_fpn_model_from_config\n",
            "[       OK ] ModelBuilderTF1Test.test_create_ssd_fpn_model_from_config\n",
            "[ RUN      ] ModelBuilderTF1Test.test_create_ssd_models_from_config\n",
            "[       OK ] ModelBuilderTF1Test.test_create_ssd_models_from_config\n",
            "[ RUN      ] ModelBuilderTF1Test.test_invalid_faster_rcnn_batchnorm_update\n",
            "[       OK ] ModelBuilderTF1Test.test_invalid_faster_rcnn_batchnorm_update\n",
            "[ RUN      ] ModelBuilderTF1Test.test_invalid_first_stage_nms_iou_threshold\n",
            "[       OK ] ModelBuilderTF1Test.test_invalid_first_stage_nms_iou_threshold\n",
            "[ RUN      ] ModelBuilderTF1Test.test_invalid_model_config_proto\n",
            "[       OK ] ModelBuilderTF1Test.test_invalid_model_config_proto\n",
            "[ RUN      ] ModelBuilderTF1Test.test_invalid_second_stage_batch_size\n",
            "[       OK ] ModelBuilderTF1Test.test_invalid_second_stage_batch_size\n",
            "[ RUN      ] ModelBuilderTF1Test.test_session\n",
            "[  SKIPPED ] ModelBuilderTF1Test.test_session\n",
            "[ RUN      ] ModelBuilderTF1Test.test_unknown_faster_rcnn_feature_extractor\n",
            "[       OK ] ModelBuilderTF1Test.test_unknown_faster_rcnn_feature_extractor\n",
            "[ RUN      ] ModelBuilderTF1Test.test_unknown_meta_architecture\n",
            "[       OK ] ModelBuilderTF1Test.test_unknown_meta_architecture\n",
            "[ RUN      ] ModelBuilderTF1Test.test_unknown_ssd_feature_extractor\n",
            "[       OK ] ModelBuilderTF1Test.test_unknown_ssd_feature_extractor\n",
            "----------------------------------------------------------------------\n",
            "Ran 21 tests in 0.226s\n",
            "\n",
            "OK (skipped=1)\n"
          ],
          "name": "stdout"
        }
      ]
    },
    {
      "cell_type": "code",
      "metadata": {
        "id": "8noSMNozcOy3",
        "colab": {
          "base_uri": "https://localhost:8080/"
        },
        "outputId": "e4a02844-bd74-4d31-d572-68581ea00056"
      },
      "source": [
        "%cd /content/"
      ],
      "execution_count": null,
      "outputs": [
        {
          "output_type": "stream",
          "text": [
            "/content\n"
          ],
          "name": "stdout"
        }
      ]
    },
    {
      "cell_type": "markdown",
      "metadata": {
        "id": "CuLnUO6_7fgR"
      },
      "source": [
        "# Montar Google Drive como carpeta"
      ]
    },
    {
      "cell_type": "code",
      "metadata": {
        "colab": {
          "base_uri": "https://localhost:8080/"
        },
        "id": "2W1HYTWjW7Ch",
        "outputId": "e9dcb1b3-0ab7-4760-ebaa-cc40cd66808a"
      },
      "source": [
        "from google.colab import drive,files\r\n",
        "drive.mount('/content/drive')"
      ],
      "execution_count": null,
      "outputs": [
        {
          "output_type": "stream",
          "text": [
            "Mounted at /content/drive\n"
          ],
          "name": "stdout"
        }
      ]
    },
    {
      "cell_type": "markdown",
      "metadata": {
        "id": "a1v-dnUkmwu8"
      },
      "source": [
        "# Ubicación de modelos, videos y archivos"
      ]
    },
    {
      "cell_type": "code",
      "metadata": {
        "id": "3oezMeXhXFfL"
      },
      "source": [
        "# MODEL_PATH2 = modelo de caída de dientes\r\n",
        "MODEL_PATH2 = '/content/drive/MyDrive/MineSense/Execution/Hudbay/Caida/frozen_inference_graph.pb'\r\n",
        "# MODEL_PATH = modelo de desgate\r\n",
        "MODEL_PATH = '/content/drive/MyDrive/MineSense/Execution/Wear/wear_base_31ene21.pb'\r\n",
        "# VIDEO_PATH = video a probar\r\n",
        "VIDEO_PATH = '/content/drive/MyDrive/MineSense/Execution/Hudbay/Videos/Termica/video000002.ts'\r\n",
        "# SAVE_PATH = nombre de archivo de video procesado (.avi)\r\n",
        "SAVE_PATH = '/content/drive/MyDrive/MineSense/Execution/Results/hudbay_caida.avi'\r\n",
        "# FILE_PATH = ubicación de creación de archivos csv\r\n",
        "FILE_PATH = '/content/drive/MyDrive/MineSense/Execution/Results/'"
      ],
      "execution_count": null,
      "outputs": []
    },
    {
      "cell_type": "markdown",
      "metadata": {
        "id": "uS-3p1MY9-Wf"
      },
      "source": [
        "# Ejecución de modelos y guardado de video"
      ]
    },
    {
      "cell_type": "code",
      "metadata": {
        "id": "Bd6aPL3TavhE"
      },
      "source": [
        "from PIL import Image\r\n",
        "import tensorflow as tf\r\n",
        "import numpy as np\r\n",
        "import time\r\n",
        "import socket\r\n",
        "from struct import pack\r\n",
        "from struct import unpack\r\n",
        "import math\r\n",
        "import cv2\r\n",
        "import csv\r\n",
        "from datetime import datetime\r\n",
        "import os.path"
      ],
      "execution_count": null,
      "outputs": []
    },
    {
      "cell_type": "code",
      "metadata": {
        "id": "QfqmJtpXazm-"
      },
      "source": [
        "def filter_boxes_and_classes_by_score(boxes,scores,classes,min_score):\r\n",
        "    filtered_boxes = []\r\n",
        "    filtered_scores = []\r\n",
        "    filtered_classes = []\r\n",
        "    num_teeth = 6\r\n",
        "    for i in range(0,len(boxes)):\r\n",
        "        if scores[i] >= min_score:\r\n",
        "            filtered_boxes.append(boxes[i])\r\n",
        "            filtered_scores.append(scores[i])\r\n",
        "            filtered_classes.append(classes[i])\r\n",
        "        if len(filtered_boxes) >= num_teeth:\r\n",
        "            break\r\n",
        "    filtered_boxes = np.array(filtered_boxes)\r\n",
        "    filtered_scores = np.array(filtered_scores)\r\n",
        "    return filtered_boxes, filtered_scores, filtered_classes"
      ],
      "execution_count": null,
      "outputs": []
    },
    {
      "cell_type": "code",
      "metadata": {
        "id": "yg-Hr4sqa-SA"
      },
      "source": [
        "input_names = ['image_tensor']\r\n",
        "\r\n",
        "detect_graph = tf.Graph()\r\n",
        "with detect_graph.as_default():\r\n",
        "    graph_def = tf.GraphDef()\r\n",
        "    with tf.gfile.GFile(MODEL_PATH, 'rb') as fid:\r\n",
        "        serialized_graph = fid.read()\r\n",
        "        graph_def.ParseFromString(serialized_graph)\r\n",
        "        tf.import_graph_def(graph_def, name='')\r\n",
        "# define input/output tensors\r\n",
        "tf_input = detect_graph.get_tensor_by_name('image_tensor:0')\r\n",
        "tf_boxes = detect_graph.get_tensor_by_name('detection_boxes:0')\r\n",
        "tf_scores = detect_graph.get_tensor_by_name('detection_scores:0')\r\n",
        "tf_classes = detect_graph.get_tensor_by_name('detection_classes:0')\r\n",
        "tf_num_detections = detect_graph.get_tensor_by_name('num_detections:0')\r\n",
        "\r\n",
        "# create the session for inferencing\r\n",
        "tf_sess = tf.Session(graph=detect_graph)\r\n",
        "\r\n",
        "detect_graph2 = tf.Graph()\r\n",
        "with detect_graph2.as_default():\r\n",
        "    graph_def = tf.GraphDef()\r\n",
        "    with tf.gfile.GFile(MODEL_PATH2, 'rb') as fid:\r\n",
        "        serialized_graph = fid.read()\r\n",
        "        graph_def.ParseFromString(serialized_graph)\r\n",
        "        tf.import_graph_def(graph_def, name='')\r\n",
        "# define input/output tensors\r\n",
        "tf_input2 = detect_graph2.get_tensor_by_name('image_tensor:0')\r\n",
        "tf_boxes2 = detect_graph2.get_tensor_by_name('detection_boxes:0')\r\n",
        "tf_scores2 = detect_graph2.get_tensor_by_name('detection_scores:0')\r\n",
        "tf_classes2 = detect_graph2.get_tensor_by_name('detection_classes:0')\r\n",
        "tf_num_detections2 = detect_graph2.get_tensor_by_name('num_detections:0')\r\n",
        "\r\n",
        "# create the session for inferencing\r\n",
        "tf_sess2 = tf.Session(graph=detect_graph2)"
      ],
      "execution_count": null,
      "outputs": []
    },
    {
      "cell_type": "code",
      "metadata": {
        "id": "h9piL294fSdB"
      },
      "source": [
        "import math\r\n",
        "def distance_bboxCenter_px(center1,center2):\r\n",
        "    \r\n",
        "    x1,y1 = center1\r\n",
        "    x2,y2 = center2\r\n",
        "\r\n",
        "    distance = math.sqrt(((x1-x2)**2) + ((y1-y2)**2))\r\n",
        "\r\n",
        "    return distance\r\n"
      ],
      "execution_count": null,
      "outputs": []
    },
    {
      "cell_type": "code",
      "metadata": {
        "id": "KcItXyMvfqhD"
      },
      "source": [
        "def fits_zones_fall(image,boxes,classes,past_centers):\r\n",
        "    movimiento = [1,1,1,1,1,1]\r\n",
        "    distancias = [-1,-1,-1,-1,-1,-1]\r\n",
        "    static_counter = 0\r\n",
        "\r\n",
        "    font = cv2.FONT_HERSHEY_SIMPLEX \r\n",
        "    # fontScale \r\n",
        "    fontScale = 0.4\r\n",
        "    # Red color in BGR \r\n",
        "    color = (0, 0, 255) \r\n",
        "    # Line thickness of 1 px \r\n",
        "    thickness = 1\r\n",
        "\r\n",
        "    limit_size = 6\r\n",
        "    # min_limit = [0,50,115,170,226,290]\r\n",
        "    # max_limit = [45,105,165,220,285,320]\r\n",
        "\r\n",
        "    min_limit = [0,43,105,165,215,278]\r\n",
        "    max_limit = [40,100,160,210,275,320]\r\n",
        "\r\n",
        "    # min_limit = [15,64,123,185,226,276]\r\n",
        "    # max_limit = [60,114,165,222,270,320]\r\n",
        "\r\n",
        "    detected_centers = [[0,0],[0,0],[0,0],[0,0],[0,0],[0,0]]\r\n",
        "    \r\n",
        "    teeth_detected = [0,0,0,0,0,0]\r\n",
        "    broken_detected = [0,0,0,0,0,0]\r\n",
        "    number_teeth_detected = 0\r\n",
        "    fall_teeth_detected = 0\r\n",
        "\r\n",
        "    #Draw limits\r\n",
        "    image = cv2.line(image, (0,90),(image.shape[1],90),(0,255,0),2)\r\n",
        "    image = cv2.line(image, (0,256),(image.shape[1],256),(0,255,0),2)\r\n",
        "\r\n",
        "    for i in range(0,limit_size):\r\n",
        "        image = cv2.line(image, (min_limit[i],90),(min_limit[i],256),(i*30,i*30,255),2)\r\n",
        "        image = cv2.line(image, (max_limit[i],90),(max_limit[i],256),(i*30,i*30,255),2)\r\n",
        "    \r\n",
        "    #Put numbers\r\n",
        "\r\n",
        "    for k in range(len(boxes)):\r\n",
        "        \r\n",
        "        box = boxes[k] * np.array([image.shape[0], image.shape[1], image.shape[0], image.shape[1]])\r\n",
        "        \r\n",
        "        if classes[k] == 1:\r\n",
        "            teeth_detected[i] = 1\r\n",
        "            #number_teeth_detected = number_teeth_detected + 1\r\n",
        "            font = cv2.FONT_HERSHEY_SIMPLEX\r\n",
        "            fontScale = 0.5\r\n",
        "            color = (255, 0, 0)\r\n",
        "            thickness = 1\r\n",
        "            image = cv2.rectangle(image,(int(box[1]),int(box[0])),(int(box[3]),int(box[2])),(255,0,0), 2)\r\n",
        "            image = cv2.putText(image, \"normal\", (int(box[1]),int(box[0]-5)), font,fontScale, color, thickness, cv2.LINE_AA)\r\n",
        "        if classes[k] == 2:\r\n",
        "            broken_detected[i] = 1\r\n",
        "            #fall_teeth_detected = fall_teeth_detected + 1\r\n",
        "            font = cv2.FONT_HERSHEY_SIMPLEX\r\n",
        "            fontScale = 0.5\r\n",
        "            color = (0, 0, 255)\r\n",
        "            thickness = 1\r\n",
        "            image = cv2.rectangle(image,(int(box[1]),int(box[0])),(int(box[3]),int(box[2])),(0,255,255), 2)\r\n",
        "            image = cv2.putText(image, \"broken\", (int(box[1]),int(box[0]-5)), font,fontScale, color, thickness, cv2.LINE_AA)\r\n",
        "        \r\n",
        "        y_min,x_min,y_max,x_max = box\r\n",
        "\r\n",
        "        if y_min >= 90 and y_max <= 256:\r\n",
        "\r\n",
        "            for i in range(0,limit_size):\r\n",
        "                if x_min >= min_limit[i] and x_max <= max_limit[i]:\r\n",
        "                    \r\n",
        "                    if classes[k] == 1:\r\n",
        "                        teeth_detected[i] = 1\r\n",
        "                        number_teeth_detected = number_teeth_detected + 1\r\n",
        "                        font = cv2.FONT_HERSHEY_SIMPLEX\r\n",
        "                        fontScale = 0.5\r\n",
        "                        color = (255, 0, 0)\r\n",
        "                        thickness = 1\r\n",
        "                        image = cv2.rectangle(image,(int(box[1]),int(box[0])),(int(box[3]),int(box[2])),(255,0,255), 2)\r\n",
        "                        image = cv2.putText(image, \"normal\", (int(box[1]),int(box[0]-5)), font,fontScale, color, thickness, cv2.LINE_AA)\r\n",
        "\r\n",
        "\r\n",
        "                        aux_center = [int((x_max-x_min)/2),int((y_max-y_min)/2)]\r\n",
        "                        \r\n",
        "                        #print(\"Aux Center: \" + str(aux_center))\r\n",
        "                        #print(\"Past Center: \" + str(past_centers[i]))\r\n",
        "                        if past_centers[i] != [0,0]:\r\n",
        "                            distance = distance_bboxCenter_px(past_centers[i],aux_center)\r\n",
        "                            distancias[i] = distance\r\n",
        "                            #print(\"Distance: \" + str(distance))\r\n",
        "                            if distance <= 2:\r\n",
        "                                movimiento[i] = 0\r\n",
        "                        \r\n",
        "                        past_centers[i] = aux_center\r\n",
        "                        \r\n",
        "                          \r\n",
        "                    if classes[k] == 2:\r\n",
        "                        broken_detected[i] = 1\r\n",
        "                        fall_teeth_detected = fall_teeth_detected + 1\r\n",
        "                        font = cv2.FONT_HERSHEY_SIMPLEX\r\n",
        "                        fontScale = 0.5\r\n",
        "                        color = (0, 0, 255)\r\n",
        "                        thickness = 1\r\n",
        "                        image = cv2.rectangle(image,(int(box[1]),int(box[0])),(int(box[3]),int(box[2])),(0,0,255), 2)\r\n",
        "                        image = cv2.putText(image, \"broken\", (int(box[1]),int(box[0]-5)), font,fontScale, color, thickness, cv2.LINE_AA)\r\n",
        "                    \r\n",
        "    return image,teeth_detected,number_teeth_detected,broken_detected,fall_teeth_detected,movimiento,distancias\r\n",
        "    \r\n",
        "def filter_boxes_by_score(boxes,scores,min_score):\r\n",
        "    filtered_boxes = []\r\n",
        "    filtered_scores = []\r\n",
        "    num_teeth = 6\r\n",
        "    for i in range(0,len(boxes)):\r\n",
        "        if scores[i] >= min_score:\r\n",
        "            filtered_boxes.append(boxes[i])\r\n",
        "            filtered_scores.append(scores[i])\r\n",
        "        if len(filtered_boxes) >= num_teeth:\r\n",
        "            break\r\n",
        "    filtered_boxes = np.array(filtered_boxes)\r\n",
        "    filtered_scores = np.array(filtered_scores)\r\n",
        "    return filtered_boxes, filtered_scores\r\n",
        "def order_boxes_and_scores(boxes,scores):\r\n",
        "    boxes = boxes[0:6]\r\n",
        "    scores = scores[0:6]\r\n",
        "\r\n",
        "    scores2 = np.expand_dims(scores, axis=1)\r\n",
        "    boxes_and_scores = np.append(boxes,scores2, axis=1)\r\n",
        "    boxes_and_scores_sorted = np.asarray(sorted(boxes_and_scores, key=lambda x: x[1]))\r\n",
        "\r\n",
        "    boxes = boxes_and_scores_sorted[:,0:4]\r\n",
        "    scores = boxes_and_scores_sorted[:,4]\r\n",
        "    return boxes, scores\r\n",
        "def fits_zones(image,boxes,past_teeth):\r\n",
        "\r\n",
        "    font = cv2.FONT_HERSHEY_SIMPLEX \r\n",
        "    # fontScale \r\n",
        "    fontScale = 0.5\r\n",
        "    # Red color in BGR \r\n",
        "    color = (0, 0, 255) \r\n",
        "    # Line thickness of 1 px \r\n",
        "    thickness = 1\r\n",
        "\r\n",
        "    limit_size = 6\r\n",
        "    # min_limit = [0,50,115,170,226,290]\r\n",
        "    # max_limit = [45,105,165,220,285,320]\r\n",
        "\r\n",
        "    min_limit = [0,43,105,165,215,278]\r\n",
        "    max_limit = [40,100,160,210,275,320]\r\n",
        "\r\n",
        "    # min_limit = [15,64,123,185,226,276]\r\n",
        "    # max_limit = [60,114,165,222,270,320]\r\n",
        "\r\n",
        "    teeth_detected = [0,0,0,0,0,0]\r\n",
        "    teeth_sizes = past_teeth.copy()\r\n",
        "    number_teeth_detected = 0\r\n",
        "    \r\n",
        "    for k in range(len(boxes)):\r\n",
        "        \r\n",
        "        box = boxes[k] * np.array([image.shape[0], image.shape[1], image.shape[0], image.shape[1]])\r\n",
        "        \r\n",
        "        image = cv2.rectangle(image,(int(box[1]),int(box[0])),(int(box[3]),int(box[2])),(255,0,0), 2)\r\n",
        "        \r\n",
        "        y_min,x_min,y_max,x_max = box\r\n",
        "\r\n",
        "        if y_min >= 90 and y_max <= 256:\r\n",
        "\r\n",
        "            for i in range(0,limit_size):\r\n",
        "\r\n",
        "                if x_min >= min_limit[i] and x_max <= max_limit[i]:\r\n",
        "\r\n",
        "                    teeth_sizes[i] = int(box[2]) - int(box[0])\r\n",
        "                    teeth_size = int(box[2]) - int(box[0])\r\n",
        "                    \r\n",
        "                    teeth_detected[i] = 1\r\n",
        "                    number_teeth_detected = number_teeth_detected + 1 \r\n",
        "\r\n",
        "                    \r\n",
        "                    image = cv2.rectangle(image,(int(box[1]),int(box[0])),(int(box[3]),int(box[2])),(0,255,0), 2)\r\n",
        "    \r\n",
        "    return image,teeth_detected,number_teeth_detected,teeth_sizes"
      ],
      "execution_count": null,
      "outputs": []
    },
    {
      "cell_type": "code",
      "metadata": {
        "id": "2janp_xWbDuq"
      },
      "source": [
        "cap = cv2.VideoCapture(VIDEO_PATH)\r\n",
        "fourcc = cv2.VideoWriter_fourcc(*'XVID')\r\n",
        "width_original = int(cap.get(3))\r\n",
        "height_original = int(cap.get(4))\r\n",
        "out = cv2.VideoWriter(SAVE_PATH,fourcc, 30.0, (width_original,height_original))\r\n",
        "length = int(cap.get(cv2.CAP_PROP_FRAME_COUNT))"
      ],
      "execution_count": null,
      "outputs": []
    },
    {
      "cell_type": "code",
      "metadata": {
        "id": "Bo-HYjX2jymZ"
      },
      "source": [
        "class Communicator:\r\n",
        "    def __init__(self):\r\n",
        "        #self.videoPort = videoPort\r\n",
        "        #self.dataPort = dataPort\r\n",
        "        self.all_teeth_size = [0,0,0,0,0,0]\r\n",
        "        self.scale = 254\r\n",
        "        self.teeth_sizes = [self.scale,self.scale,self.scale,self.scale,self.scale,self.scale]\r\n",
        "        self.teeth_sizes_filtered = [self.scale,self.scale,self.scale,self.scale,self.scale,self.scale]\r\n",
        "        self.movimiento = [1,1,1,1,1,1]\r\n",
        "        self.static_counter = [0,0,0,0,0,0]\r\n",
        "        self.bucket_movements = 0\r\n",
        "        self.teeth0 = []\r\n",
        "        self.teeth1 = []\r\n",
        "        self.teeth2 = []\r\n",
        "        self.teeth3 = []\r\n",
        "        self.teeth4 = []\r\n",
        "        self.teeth5 = []\r\n",
        "        self.state_teeth = [1,1,1,1,1,1]\r\n",
        "        self.total_frame_teeth = [0,0,0,0,0,0]\r\n",
        "        self.static_counter = [0,0,0,0,0,0]\r\n",
        "        self.past_centers = [[0,0],[0,0],[0,0],[0,0],[0,0],[0,0]]"
      ],
      "execution_count": null,
      "outputs": []
    },
    {
      "cell_type": "code",
      "metadata": {
        "colab": {
          "base_uri": "https://localhost:8080/"
        },
        "id": "OiX97PmVbTLx",
        "outputId": "a72bdef0-da39-4a6f-9216-76d19e9d9728"
      },
      "source": [
        "frame_count = 0\r\n",
        "serverComm = Communicator()\r\n",
        "np.set_printoptions(suppress=True)\r\n",
        "\r\n",
        "font = cv2.FONT_HERSHEY_SIMPLEX \r\n",
        "fontScale = 0.4\r\n",
        "color = (0, 0, 255)\r\n",
        "thickness = 1\r\n",
        "\r\n",
        "if os.path.isfile(FILE_PATH + 'caida_boxes_raw.csv'):\r\n",
        "    print (\"File exist\")\r\n",
        "else:\r\n",
        "    with open(FILE_PATH + 'caida_boxes_raw.csv', 'w', newline='') as file:\r\n",
        "      writer = csv.writer(file)\r\n",
        "      writer.writerow([\"Date\", \"Time\",\"Boxes\",\"Scores\",\"Classes\",\"Num. Detections\"])\r\n",
        "\r\n",
        "if os.path.isfile(FILE_PATH + 'desgaste_boxes_raw.csv'):\r\n",
        "    print (\"File exist\")\r\n",
        "else:\r\n",
        "    with open(FILE_PATH + 'desgaste_boxes_raw.csv', 'w', newline='') as file:\r\n",
        "      writer = csv.writer(file)\r\n",
        "      writer.writerow([\"Date\", \"Time\",\"Boxes\",\"Scores\",\"Classes\",\"Num. Detections\"])\r\n",
        "\r\n",
        "if os.path.isfile(FILE_PATH + 'teeth_lenght_px_filtered.csv'):\r\n",
        "    print (\"File exist\")\r\n",
        "else:\r\n",
        "    with open(FILE_PATH + 'teeth_lenght_px_filtered.csv', 'w', newline='') as file:\r\n",
        "      writer = csv.writer(file)\r\n",
        "      writer.writerow([\"Date\", \"Time\",\"Teeth0\",\"Teeth1\",\"Teeth2\",\"Teeth3\",\"Teeth4\",\"Teeth5\"])\r\n",
        "\r\n",
        "if os.path.isfile(FILE_PATH + 'teeth_lenght_px_raw.csv'):\r\n",
        "    print (\"File exist\")\r\n",
        "else:\r\n",
        "    with open('teeth_lenght_px_raw.csv', 'w', newline='') as file:\r\n",
        "        writer = csv.writer(file)\r\n",
        "        writer.writerow([\"Date\", \"Time\",\"Teeth0\",\"Teeth1\",\"Teeth2\",\"Teeth3\",\"Teeth4\",\"Teeth5\"])\r\n",
        "\r\n",
        "if os.path.isfile(FILE_PATH + 'teeth_lenght_px_raw_extraData.csv'):\r\n",
        "    print (\"File exist\")\r\n",
        "else:\r\n",
        "    with open(FILE_PATH + 'teeth_lenght_px_raw_extraData.csv', 'w', newline='') as file:\r\n",
        "        writer = csv.writer(file)\r\n",
        "        writer.writerow([\"Date\", \"Time\",\"Teeth0\",\"Teeth1\",\"Teeth2\",\"Teeth3\",\"Teeth4\",\"Teeth5\",\"number_teeth_detected\",\"array_teeth\"])\r\n",
        "\r\n",
        "if os.path.isfile(FILE_PATH + 'teeth_normal.csv'):\r\n",
        "    print (\"File exist\")\r\n",
        "else:\r\n",
        "    with open(FILE_PATH + 'teeth_normal.csv', 'w', newline='') as file:\r\n",
        "        writer = csv.writer(file)\r\n",
        "        writer.writerow([\"Date\", \"Time\",\"Teeth0\",\"Teeth1\",\"Teeth2\",\"Teeth3\",\"Teeth4\",\"Teeth5\",\"number_teeth_detected\"])\r\n",
        "\r\n",
        "if os.path.isfile(FILE_PATH + 'teeth_broken.csv'):\r\n",
        "    print (\"File exist\")\r\n",
        "else:\r\n",
        "    with open(FILE_PATH + 'teeth_broken.csv', 'w', newline='') as file:\r\n",
        "        writer = csv.writer(file)\r\n",
        "        writer.writerow([\"Date\", \"Time\",\"Teeth0\",\"Teeth1\",\"Teeth2\",\"Teeth3\",\"Teeth4\",\"Teeth5\",\"number_broken_detected\"])\r\n",
        "\r\n",
        "if os.path.isfile(FILE_PATH + 'bucket_movement.csv'):\r\n",
        "    print (\"File exist\")\r\n",
        "else:\r\n",
        "    with open(FILE_PATH + 'bucket_movement.csv', 'w', newline='') as file:\r\n",
        "        writer = csv.writer(file)\r\n",
        "        writer.writerow([\"Date\", \"Time\",\"Dist_Teeth0\",\"Dist_Teeth1\",\"Dist_Teeth2\",\"Dist_Teeth3\",\"Dist_Teeth4\",\"Dist_Teeth5\",\"number_teeth_detected\",\"teeth_detected\",\"static_counter\",\"bucket_moving\"])\r\n",
        "        \r\n",
        "while(cap.isOpened()):\r\n",
        "    ret, frame = cap.read()\r\n",
        "    if ret==True:\r\n",
        "\r\n",
        "      #Resize image\r\n",
        "      image_resized = cv2.resize(frame, (300, 300))\r\n",
        "      \r\n",
        "      #Run detection\r\n",
        "      scores, boxes, classes, num_detections = tf_sess.run([tf_scores, tf_boxes, tf_classes, tf_num_detections], feed_dict={\r\n",
        "              tf_input: image_resized[None, ...]\r\n",
        "          })\r\n",
        "      \r\n",
        "      scores2, boxes2, classes2, num_detections2 = tf_sess2.run([tf_scores2, tf_boxes2, tf_classes2, tf_num_detections2], feed_dict={\r\n",
        "          tf_input2: image_resized[None, ...]\r\n",
        "      })\r\n",
        "\r\n",
        "      #new_frame = frame.copy()\r\n",
        "\r\n",
        "      boxes2 = boxes2[0] \r\n",
        "      scores2 = scores2[0]\r\n",
        "      classes2 = classes2[0]\r\n",
        "      num_detections2 = num_detections2[0]\r\n",
        "\r\n",
        "      now = datetime.now()\r\n",
        "      date = now.strftime(\"%d/%m/%Y\")\r\n",
        "      time = now.strftime(\"%H:%M:%S\")\r\n",
        "      \r\n",
        "      with open(FILE_PATH + 'caida_boxes_raw.csv', 'a', newline='') as file:\r\n",
        "          writer = csv.writer(file)\r\n",
        "          writer.writerow([date,time,boxes2,scores2,classes2,num_detections2])\r\n",
        "\r\n",
        "      #boxes2, scores2 = filter_boxes_by_score(boxes2,scores2,min_score=0.5)\r\n",
        "      boxes2, scores2, classes2 = filter_boxes_and_classes_by_score(boxes2,scores2,classes2,min_score=0.5)\r\n",
        "\r\n",
        "\r\n",
        "      #######################################  FALL DETECTION #############################################\r\n",
        "\r\n",
        "      new_frame = frame.copy()\r\n",
        "      \r\n",
        "      new_frame,teeth_detected,number_teeth_detected, broken_detected,number_broken_detected,movimiento,distancias = fits_zones_fall(new_frame,boxes2,classes2,serverComm.past_centers)\r\n",
        "      serverComm.movimiento = movimiento\r\n",
        "\r\n",
        "\r\n",
        "\r\n",
        "      for m in range(len(serverComm.movimiento)):\r\n",
        "          if serverComm.movimiento[m] == 0:\r\n",
        "              if serverComm.static_counter[m] < 1000:\r\n",
        "                  serverComm.static_counter[m] = serverComm.static_counter[m] + 1\r\n",
        "          else:\r\n",
        "              serverComm.static_counter[m] = 0\r\n",
        "          \r\n",
        "      static_value = 0\r\n",
        "      for m in range(len(serverComm.static_counter)):\r\n",
        "          if serverComm.static_counter[m] >= 120:\r\n",
        "              static_value = static_value + 1\r\n",
        "      \r\n",
        "      bucket_moving = 1\r\n",
        "      if static_value >= 5:\r\n",
        "          bucket_moving = 0\r\n",
        "          new_frame = cv2.putText(new_frame, \"STATIC\", (200,28), font,fontScale, color, thickness, cv2.LINE_AA)\r\n",
        "      else:\r\n",
        "          bucket_moving = 1\r\n",
        "          new_frame = cv2.putText(new_frame, \"MOVING\", (200,28), font,fontScale, color, thickness, cv2.LINE_AA)\r\n",
        "      \r\n",
        "      now = datetime.now()\r\n",
        "      date = now.strftime(\"%d/%m/%Y\")\r\n",
        "      time = now.strftime(\"%H:%M:%S\")\r\n",
        "      \r\n",
        "      with open(FILE_PATH + 'bucket_movement.csv', 'a', newline='') as file:\r\n",
        "          writer = csv.writer(file)\r\n",
        "          writer.writerow([date,time,distancias[0],distancias[1],distancias[2],distancias[3],distancias[4],distancias[5],number_teeth_detected,teeth_detected,serverComm.static_counter,bucket_moving])\r\n",
        "              \r\n",
        "      \r\n",
        "\r\n",
        "      #print(\"=================================\")\r\n",
        "      #print(\"Movimiento: \" + str(movimiento))\r\n",
        "      #print(\"=================================\")\r\n",
        "\r\n",
        "    \r\n",
        "      \r\n",
        "\r\n",
        "\r\n",
        "      font = cv2.FONT_HERSHEY_SIMPLEX \r\n",
        "      fontScale = 0.4\r\n",
        "      color = (0, 0, 255)\r\n",
        "      thickness = 1\r\n",
        "      new_frame = cv2.putText(new_frame, \"inst: \" + str(teeth_detected), (10,58), font,fontScale, color, thickness, cv2.LINE_AA)\r\n",
        "      new_frame = cv2.putText(new_frame, \"# teeth: \" + str(number_teeth_detected), (200,58), font,fontScale, color, thickness, cv2.LINE_AA)\r\n",
        "      \r\n",
        "      if bucket_moving == 1:\r\n",
        "          if number_teeth_detected >= 5:\r\n",
        "              for i in range(len(teeth_detected)):\r\n",
        "                  if (teeth_detected[i]==0 and serverComm.state_teeth[i] == 1) or (teeth_detected[i]==1 and serverComm.state_teeth[i] == 0):\r\n",
        "                      serverComm.total_frame_teeth[i] = serverComm.total_frame_teeth[i] + 1\r\n",
        "                  elif (teeth_detected[i]==1 and serverComm.state_teeth[i] == 1) or (teeth_detected[i]==0 and serverComm.state_teeth[i] == 0):\r\n",
        "                      serverComm.total_frame_teeth[i] = 0\r\n",
        "          if number_broken_detected > 0:\r\n",
        "              for i in range(len(broken_detected)):\r\n",
        "                  if (broken_detected[i]==1 and serverComm.state_teeth[i] == 1):\r\n",
        "                      serverComm.total_frame_teeth[i] = serverComm.total_frame_teeth[i] + 1\r\n",
        "                  #elif (teeth_detected[i]==1 and serverComm.state_teeth[i] == 1) or (teeth_detected[i]==0 and serverComm.state_teeth[i] == 0):\r\n",
        "                      #serverComm.total_frame_teeth[i] = 0   \r\n",
        "\r\n",
        "      for i in range(len(teeth_detected)):\r\n",
        "          if serverComm.total_frame_teeth[i]>100 and serverComm.state_teeth[i]==1:\r\n",
        "              serverComm.state_teeth[i] = 0\r\n",
        "              serverComm.total_frame_teeth[i] = 0\r\n",
        "              #alertas = alertas + 1\r\n",
        "          elif serverComm.total_frame_teeth[i]>100 and serverComm.state_teeth[i]==0:\r\n",
        "              serverComm.state_teeth[i] = 1\r\n",
        "              serverComm.total_frame_teeth[i] = 0\r\n",
        "              #reposicion = reposicion + 1\r\n",
        "\r\n",
        "      ####################################### END FALL DETECTION #############################################\r\n",
        "\r\n",
        "\r\n",
        "      boxes = boxes[0] \r\n",
        "      scores = scores[0]\r\n",
        "      classes = classes[0]\r\n",
        "      num_detections = num_detections[0]\r\n",
        "\r\n",
        "      now = datetime.now()\r\n",
        "      date = now.strftime(\"%d/%m/%Y\")\r\n",
        "      time = now.strftime(\"%H:%M:%S\")\r\n",
        "      \r\n",
        "      with open(FILE_PATH + 'desgaste_boxes_raw.csv', 'a', newline='') as file:\r\n",
        "          writer = csv.writer(file)\r\n",
        "          writer.writerow([date,time,boxes,scores,classes,num_detections])\r\n",
        "\r\n",
        "      boxes_filtered, scores_filtered = filter_boxes_by_score(boxes,scores,min_score=0.4)\r\n",
        "      \r\n",
        "      #frame = draw_zones(frame)\r\n",
        "      if (len(boxes_filtered) > 0) and (len(scores_filtered) > 0):\r\n",
        "\r\n",
        "          boxes_ordered,scores_ordered = order_boxes_and_scores(boxes_filtered,scores_filtered)\r\n",
        "          #frame = detector.draw_bb(frame,boxes_ordered,scores_ordered)\r\n",
        "\r\n",
        "      \r\n",
        "          new_frame, teeth_detected, number_teeth_detected, teeth_sizes = fits_zones(new_frame,boxes_ordered,serverComm.teeth_sizes)\r\n",
        "          \r\n",
        "          serverComm.teeth_sizes = teeth_sizes\r\n",
        "\r\n",
        "          # if number_teeth_detected >=5 and serverComm.movimiento == 0:\r\n",
        "          #     serverComm.movimiento = 1\r\n",
        "          # elif number_teeth_detected == 0 and serverComm.movimiento == 1:\r\n",
        "          #     serverComm.movimiento = 0\r\n",
        "          #     serverComm.bucket_movements = serverComm.bucket_movements + 1\r\n",
        "          \r\n",
        "          # if serverComm.movimiento == 1:\r\n",
        "          out_of_limits = 0\r\n",
        "          for i in range(len(teeth_sizes)):\r\n",
        "              if teeth_sizes[i] < 15 or teeth_sizes[i] > 35:\r\n",
        "                  out_of_limits = 1\r\n",
        "\r\n",
        "          if number_teeth_detected >= 5 and out_of_limits == 0:\r\n",
        "              serverComm.teeth0.append(int(teeth_sizes[0]))\r\n",
        "              serverComm.teeth1.append(int(teeth_sizes[1]))\r\n",
        "              serverComm.teeth2.append(int(teeth_sizes[2]))\r\n",
        "              serverComm.teeth3.append(int(teeth_sizes[3]))\r\n",
        "              serverComm.teeth4.append(int(teeth_sizes[4]))\r\n",
        "              serverComm.teeth5.append(int(teeth_sizes[5]))\r\n",
        "\r\n",
        "              num_measurements = 9000\r\n",
        "              if len(serverComm.teeth0) > num_measurements:\r\n",
        "                  serverComm.teeth0.pop(0)\r\n",
        "              if len(serverComm.teeth1) > num_measurements:\r\n",
        "                  serverComm.teeth1.pop(0)\r\n",
        "              if len(serverComm.teeth2) > num_measurements:\r\n",
        "                  serverComm.teeth2.pop(0)\r\n",
        "              if len(serverComm.teeth3) > num_measurements:\r\n",
        "                  serverComm.teeth3.pop(0)\r\n",
        "              if len(serverComm.teeth4) > num_measurements:\r\n",
        "                  serverComm.teeth4.pop(0)\r\n",
        "              if len(serverComm.teeth5) > num_measurements:\r\n",
        "                  serverComm.teeth5.pop(0)\r\n",
        "            \r\n",
        "            \r\n",
        "          if len(serverComm.teeth0) > 0:\r\n",
        "              teeth0_arr = np.array(serverComm.teeth0, dtype=int)\r\n",
        "              serverComm.teeth_sizes_filtered[0] = np.bincount(teeth0_arr).argmax()\r\n",
        "          elif len(serverComm.teeth0) == 0:\r\n",
        "              serverComm.teeth_sizes_filtered[0] = 254\r\n",
        "\r\n",
        "          if len(serverComm.teeth1) > 0:\r\n",
        "              teeth1_arr = np.array(serverComm.teeth1, dtype=int)\r\n",
        "              serverComm.teeth_sizes_filtered[1] = np.bincount(teeth1_arr).argmax()\r\n",
        "          elif len(serverComm.teeth1) == 0:\r\n",
        "              serverComm.teeth_sizes_filtered[1] = 254\r\n",
        "\r\n",
        "          if len(serverComm.teeth2) > 0:\r\n",
        "              teeth2_arr = np.array(serverComm.teeth2, dtype=int)\r\n",
        "              serverComm.teeth_sizes_filtered[2] = np.bincount(teeth2_arr).argmax()\r\n",
        "          elif len(serverComm.teeth2) == 0:\r\n",
        "              serverComm.teeth_sizes_filtered[2] = 254\r\n",
        "\r\n",
        "          if len(serverComm.teeth3) > 0:\r\n",
        "              teeth3_arr = np.array(serverComm.teeth3, dtype=int)\r\n",
        "              serverComm.teeth_sizes_filtered[3] = np.bincount(teeth3_arr).argmax()\r\n",
        "          elif len(serverComm.teeth3) == 0:\r\n",
        "              serverComm.teeth_sizes_filtered[3] = 254\r\n",
        "\r\n",
        "          if len(serverComm.teeth4) > 0:\r\n",
        "              teeth4_arr = np.array(serverComm.teeth4, dtype=int)\r\n",
        "              serverComm.teeth_sizes_filtered[4] = np.bincount(teeth4_arr).argmax()\r\n",
        "          elif len(serverComm.teeth4) == 0:\r\n",
        "              serverComm.teeth_sizes_filtered[4] = 254\r\n",
        "\r\n",
        "          if len(serverComm.teeth5) > 0:\r\n",
        "              teeth5_arr = np.array(serverComm.teeth5, dtype=int)\r\n",
        "              serverComm.teeth_sizes_filtered[5] = np.bincount(teeth5_arr).argmax()\r\n",
        "          elif len(serverComm.teeth5) == 0:\r\n",
        "              serverComm.teeth_sizes_filtered[5] = 254\r\n",
        "          \r\n",
        "          font = cv2.FONT_HERSHEY_SIMPLEX \r\n",
        "          fontScale = 0.4\r\n",
        "          color = (0, 0, 255)\r\n",
        "          thickness = 1\r\n",
        "\r\n",
        "          for i in range(len(serverComm.state_teeth)):\r\n",
        "              if serverComm.state_teeth[i] == 0:\r\n",
        "                  #frame = cv2.putText(frame, \"fall\", (10,34), font,fontScale, color, thickness, cv2.LINE_AA)\r\n",
        "                  #new_frame = cv2.putText(new_frame, \"original: \" +  str(serverComm.teeth_sizes_filtered[i]) ,(10,14), font,fontScale, color, thickness, cv2.LINE_AA)\r\n",
        "                  serverComm.teeth_sizes_filtered[i] = 255\r\n",
        "                  #new_frame = cv2.putText(new_frame, \"altered: \" +  str(serverComm.teeth_sizes_filtered[i]) ,(10,24), font,fontScale, color, thickness, cv2.LINE_AA)\r\n",
        "\r\n",
        "          font = cv2.FONT_HERSHEY_SIMPLEX \r\n",
        "          fontScale = 0.4\r\n",
        "          color = (0, 0, 255)\r\n",
        "          thickness = 1\r\n",
        "          \r\n",
        "          now = datetime.now()\r\n",
        "          date = now.strftime(\"%d/%m/%Y\")\r\n",
        "          time = now.strftime(\"%H:%M:%S\")\r\n",
        "\r\n",
        "          \r\n",
        "\r\n",
        "          with open(FILE_PATH + 'teeth_lenght_px_filtered.csv', 'a', newline='') as file:\r\n",
        "              writer = csv.writer(file)\r\n",
        "              writer.writerow([date,time,serverComm.teeth_sizes_filtered[0],serverComm.teeth_sizes_filtered[1],serverComm.teeth_sizes_filtered[2],serverComm.teeth_sizes_filtered[3],serverComm.teeth_sizes_filtered[4],serverComm.teeth_sizes_filtered[5]])\r\n",
        "              \r\n",
        "          with open(FILE_PATH +'teeth_lenght_px_raw.csv', 'a', newline='') as file:\r\n",
        "              writer = csv.writer(file)\r\n",
        "              writer.writerow([date,time,teeth_sizes[0],teeth_sizes[1],teeth_sizes[2],teeth_sizes[3],teeth_sizes[4],teeth_sizes[5]])\r\n",
        "          \r\n",
        "          with open(FILE_PATH +'teeth_lenght_px_raw_extraData.csv', 'a', newline='') as file:\r\n",
        "              writer = csv.writer(file)\r\n",
        "              writer.writerow([date,time,teeth_sizes[0],teeth_sizes[1],teeth_sizes[2],teeth_sizes[3],teeth_sizes[4],teeth_sizes[5],number_teeth_detected,teeth_detected])\r\n",
        "\r\n",
        "          with open(FILE_PATH +'teeth_normal.csv', 'a', newline='') as file:\r\n",
        "              writer = csv.writer(file)\r\n",
        "              writer.writerow([date,time,teeth_detected[0],teeth_detected[1],teeth_detected[2],teeth_detected[3],teeth_detected[4],teeth_detected[5],number_teeth_detected])\r\n",
        "\r\n",
        "          with open(FILE_PATH +'teeth_broken.csv', 'a', newline='') as file:\r\n",
        "              writer = csv.writer(file)\r\n",
        "              writer.writerow([date,time,broken_detected[0],broken_detected[1],broken_detected[2],broken_detected[3],broken_detected[4],broken_detected[5],number_broken_detected])\r\n",
        "\r\n",
        "      new_frame = cv2.putText(new_frame, \"frame: \" + str(serverComm.total_frame_teeth), (10,28), font,fontScale, color, thickness, cv2.LINE_AA)\r\n",
        "      new_frame = cv2.putText(new_frame, \"state: \" + str(serverComm.state_teeth), (10,38), font,fontScale, color, thickness, cv2.LINE_AA)\r\n",
        "      new_frame = cv2.putText(new_frame, \"lenght: \" + str(serverComm.teeth_sizes_filtered), (10,48), font,fontScale, color, thickness, cv2.LINE_AA)\r\n",
        "      new_frame = cv2.putText(new_frame, \"static_counter: \" + str(serverComm.static_counter), (10,68), font,fontScale, color, thickness, cv2.LINE_AA)\r\n",
        "        \r\n",
        "      out.write(new_frame)\r\n",
        "    else:\r\n",
        "        break\r\n",
        "\r\n",
        "print(\"~~~~~~~~ VIDEO PROCESSED ! ~~~~~~~~~~~\")\r\n",
        "\r\n",
        "\r\n",
        "cap.release()\r\n",
        "out.release()"
      ],
      "execution_count": null,
      "outputs": [
        {
          "output_type": "stream",
          "text": [
            "File exist\n",
            "File exist\n",
            "File exist\n",
            "File exist\n",
            "File exist\n",
            "File exist\n",
            "File exist\n",
            "File exist\n",
            "~~~~~~~~ VIDEO PROCESSED ! ~~~~~~~~~~~\n"
          ],
          "name": "stdout"
        }
      ]
    },
    {
      "cell_type": "markdown",
      "metadata": {
        "id": "AhFDlFmn-NJG"
      },
      "source": [
        "# Descargar video generado"
      ]
    },
    {
      "cell_type": "code",
      "metadata": {
        "colab": {
          "base_uri": "https://localhost:8080/",
          "height": 34
        },
        "id": "GUUFJDHpbdBn",
        "outputId": "9d99aa3d-31cb-4e25-c3d0-3896e336d7a8"
      },
      "source": [
        "files.download(SAVE_PATH)"
      ],
      "execution_count": null,
      "outputs": [
        {
          "output_type": "display_data",
          "data": {
            "application/javascript": [
              "\n",
              "    async function download(id, filename, size) {\n",
              "      if (!google.colab.kernel.accessAllowed) {\n",
              "        return;\n",
              "      }\n",
              "      const div = document.createElement('div');\n",
              "      const label = document.createElement('label');\n",
              "      label.textContent = `Downloading \"${filename}\": `;\n",
              "      div.appendChild(label);\n",
              "      const progress = document.createElement('progress');\n",
              "      progress.max = size;\n",
              "      div.appendChild(progress);\n",
              "      document.body.appendChild(div);\n",
              "\n",
              "      const buffers = [];\n",
              "      let downloaded = 0;\n",
              "\n",
              "      const channel = await google.colab.kernel.comms.open(id);\n",
              "      // Send a message to notify the kernel that we're ready.\n",
              "      channel.send({})\n",
              "\n",
              "      for await (const message of channel.messages) {\n",
              "        // Send a message to notify the kernel that we're ready.\n",
              "        channel.send({})\n",
              "        if (message.buffers) {\n",
              "          for (const buffer of message.buffers) {\n",
              "            buffers.push(buffer);\n",
              "            downloaded += buffer.byteLength;\n",
              "            progress.value = downloaded;\n",
              "          }\n",
              "        }\n",
              "      }\n",
              "      const blob = new Blob(buffers, {type: 'application/binary'});\n",
              "      const a = document.createElement('a');\n",
              "      a.href = window.URL.createObjectURL(blob);\n",
              "      a.download = filename;\n",
              "      div.appendChild(a);\n",
              "      a.click();\n",
              "      div.remove();\n",
              "    }\n",
              "  "
            ],
            "text/plain": [
              "<IPython.core.display.Javascript object>"
            ]
          },
          "metadata": {
            "tags": []
          }
        },
        {
          "output_type": "display_data",
          "data": {
            "application/javascript": [
              "download(\"download_a005dab8-a857-40d8-8c2e-1a4e735d3849\", \"hudbay_caida.avi\", 38218258)"
            ],
            "text/plain": [
              "<IPython.core.display.Javascript object>"
            ]
          },
          "metadata": {
            "tags": []
          }
        }
      ]
    },
    {
      "cell_type": "code",
      "metadata": {
        "id": "py7PmMaWh5n1"
      },
      "source": [
        ""
      ],
      "execution_count": null,
      "outputs": []
    }
  ]
}